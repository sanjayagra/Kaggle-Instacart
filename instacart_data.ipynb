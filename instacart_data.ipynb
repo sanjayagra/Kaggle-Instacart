{
 "cells": [
  {
   "cell_type": "code",
   "execution_count": 82,
   "metadata": {
    "collapsed": true
   },
   "outputs": [],
   "source": [
    "import pandas as pd\n",
    "import numpy as np"
   ]
  },
  {
   "cell_type": "code",
   "execution_count": 83,
   "metadata": {},
   "outputs": [],
   "source": [
    "path = '/Users/sanjayagrawal/Downloads/'\n",
    "test_new = pd.read_csv(path + 'instacart_data.csv')"
   ]
  },
  {
   "cell_type": "code",
   "execution_count": 84,
   "metadata": {},
   "outputs": [
    {
     "name": "stdout",
     "output_type": "stream",
     "text": [
      "0.577302448427\n",
      "0.577302448427\n",
      "(75000, 1)\n",
      "(96666, 3)\n",
      "(33879, 2)\n"
     ]
    }
   ],
   "source": [
    "percentile=98\n",
    "print (np.percentile(test_new['prediction'], percentile, axis=0))\n",
    "threshold = (np.percentile(test_new['prediction'], percentile, axis=0))\n",
    "print (threshold)\n",
    "order_ids_unique=test_new[['order_id']].drop_duplicates()\n",
    "print (order_ids_unique.shape)\n",
    "k = test_new[test_new['prediction']> threshold]\n",
    "print (k.shape)\n",
    "p = k[['order_id', 'product_id']].groupby(['order_id'])['product_id'].apply(list).reset_index()\n",
    "print (p.shape)\n",
    "p1 = order_ids_unique.merge(p, on = 'order_id', how = 'left').fillna('None')\n",
    "p1['product_id'] = p1['product_id'].astype('str')\n",
    "p1['product_id'] = p1['product_id'].map(lambda x : x.replace('[', \"\").replace(',',\"\").replace(']', \"\"))\n",
    "p1.columns = ['order_id', 'products']\n",
    "p1.to_csv(path + 'Instacart/submissions/' + str(percentile) + 'final_percentile.csv', index = False)"
   ]
  }
 ],
 "metadata": {
  "kernelspec": {
   "display_name": "Python 3",
   "language": "python",
   "name": "python3"
  },
  "language_info": {
   "codemirror_mode": {
    "name": "ipython",
    "version": 3
   },
   "file_extension": ".py",
   "mimetype": "text/x-python",
   "name": "python",
   "nbconvert_exporter": "python",
   "pygments_lexer": "ipython3",
   "version": "3.6.1"
  }
 },
 "nbformat": 4,
 "nbformat_minor": 2
}
